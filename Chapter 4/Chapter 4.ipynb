{
 "cells": [
  {
   "cell_type": "markdown",
   "metadata": {},
   "source": [
    "# **Section 4.2.1 (Gauss-Bonnet implications)**"
   ]
  },
  {
   "cell_type": "markdown",
   "metadata": {},
   "source": [
    "## **min_surface_index**\n",
    "\n",
    "- *min_surface_index* below takes an edge labeling $orb = [a_1, a_2, ..., a_9]$ corresponding to a prism orbifold (disregarding the infinite families)\n",
    "-  It returns the minimum index in **Corollary 4.13**.\n"
   ]
  },
  {
   "cell_type": "code",
   "execution_count": null,
   "metadata": {},
   "outputs": [],
   "source": [
    "from fractions import Fraction\n",
    "import sympy as sp\n",
    "\n",
    "def min_surface_index(orb):\n",
    "    a, b, c = orb[3:6] # a, b, c correspond to a_4, a_5, a_6 in our labeling\n",
    "    min_index = None\n",
    "    triangle_area = (1 - (Fraction(1, a) + Fraction(1, b) + Fraction(1, c)))\n",
    "    polygon_area = 2 * a * triangle_area # area of doubled cross section\n",
    "    k = 4 # since min surface are for genus 2 is 4*pi\n",
    "    while Fraction(k, polygon_area).denominator != 1:\n",
    "      k += 4 # moving to the next smallest surface area, increment genus g\n",
    "    min_index = Fraction(k, polygon_area).numerator  * a\n",
    "    return min_index"
   ]
  },
  {
   "cell_type": "markdown",
   "metadata": {},
   "source": [
    "# **Section 4.2.2 (Vertex group degrees)**"
   ]
  },
  {
   "cell_type": "markdown",
   "metadata": {},
   "source": [
    "## **vertex_group_lcm**\n",
    "\n",
    "- *vertex_group_lcm* is a function that takes an edge labeling $orb = [a_1, a_2, ..., a_9]$ corresponding to a prism orbifold (disregarding the infinite families)\n",
    "- It returns the least common multiple of the vertex group degrees of thge orbifold."
   ]
  },
  {
   "cell_type": "code",
   "execution_count": null,
   "metadata": {},
   "outputs": [],
   "source": [
    "from fractions import Fraction\n",
    "import math\n",
    "\n",
    "def vertex_group_lcm(orb):\n",
    "    v = [0]*6 # each element corresponds to a non ideal vertex vertex\n",
    "    v[1] = [orb[0], orb[2], orb[3]] # edge labels associated to vertex 1\n",
    "    v[2] = [orb[1], orb[2], orb[5]] # edge labels associated to vertex 2\n",
    "    v[3] = [orb[3], orb[6], orb[8]] # edge labels associated to vertex 3\n",
    "    v[4] = [orb[4], orb[6], orb[7]] # edge labels associated to vertex 4\n",
    "    v[5] = [orb[5], orb[7], orb[8]] # edge labels associated to vertex 5\n",
    "    # list of min indices associated to v[1],...,v[5]\n",
    "    min_index = [1,1,1,1,1] \n",
    "    for i in range(1,6):\n",
    "      # area of spherical triangle at a vertex embedded in sphere of radius 1\n",
    "      triangle_area = ((Fraction(1, v[i][0]) + Fraction(1, v[i][1]) + Fraction(1, v[i][2]))-1)\n",
    "      # number of copies of doubled triangle in triangulation of the sphere\n",
    "      min_index[i-1]=int(2/triangle_area) \n",
    "    return math.lcm(*min_index)"
   ]
  },
  {
   "cell_type": "markdown",
   "metadata": {},
   "source": [
    "# **Section 4.3 (Low index subgroups)**"
   ]
  },
  {
   "cell_type": "markdown",
   "metadata": {},
   "source": [
    "- The following snippets of code, use the *Low Index Subgroups version 1.1.0* which is a Python module that enumerates subgroups of a finitely presented group up to a certain prescribed index. \n",
    "- It can produce the generators of these subgroups in terms of permutation representations. This is achived using the command `group.permutation-rep()`.\n",
    "- This module was developed by Marc Culler, Matthias Goerner, and Nathan Dunfield. See the [Low Index GitHub Repository](https://github.com/3-manifolds/low_index) of the project for more information.\n",
    "- In order to install the version of the module that we used simply run: `pip install low-index==1.1.0 `\n",
    "\n"
   ]
  },
  {
   "cell_type": "markdown",
   "metadata": {},
   "source": [
    "## Covers of $O^{333}_{2}$\n",
    "- Recall that the fundamental group of the double cover of $O^{333}_{2}$ is\n",
    "\n",
    "    $$\\big< x, y, z, w \\mid x^3, y^3, z^3, w^2, (y^{-1}x)^2, (z^{-1}x)^3, (z^{-1}y)^4, (y^{-1}w)^3, (z^{-1}w)^2 \\big>$$\n",
    "    \n",
    "- We were able to enumerate the subgroups of this group up to index $24$.\n",
    "- **Note:** The index 24 was chosen since it is the minimum index for a potential manifold cover that could be a knot complement (see **Theorem 4.3**).\n",
    "- Theoretically we can look at higher integer multiples of 24, but the computations proved to be extremely heavy.\n",
    "- Note that even though $7$ is the number of generators, we essentially still have the four generators $x$, $y$, $z$, $y$, as\n",
    "    - $a$ and $b$ correspond to $x$ and $x^{-1}$,\n",
    "    - $c$ and $d$ correspond to $y$ and $y^{-1}$,\n",
    "    - $e$ and $f$ correspond to $z$ and $z^{-1}$, \n",
    "    - $g$ corresponds to $w$\n",
    "- This results in a txt file that you can find here under the name **raw_O333-2_up_to_indx_24.txt**"
   ]
  },
  {
   "cell_type": "code",
   "execution_count": null,
   "metadata": {},
   "outputs": [],
   "source": [
    "from low_index import *\n",
    "\n",
    "idx = 24\n",
    "t = SimsTree(7, idx, ['aaa','ccc','eee','gg','ab','cd','ef','dada','fafafa','fcfcfcfc','gcgcgc','gege'])\n",
    "sgrps = t.list()\n",
    "\n",
    "# Writing out the results\n",
    "with open(f\"raw_O333-2_up_to_indx_{idx}.txt\", \"w\") as file:\n",
    "    # Write each number in the list to the file\n",
    "    file.write(f\"number of subgroups of O333-2 w index up to {idx} : {len(sgrps)} \\n\")\n",
    "    for item in sgrps:\n",
    "        file.write(str(item.permutation_rep()) + \"\\n\")"
   ]
  },
  {
   "cell_type": "markdown",
   "metadata": {},
   "source": [
    "### Data Cleaning\n",
    "- Since we have 7 generators in the *SimsTree* presentation above, we have 7 generators for each subgroup. \n",
    "- For instance one of the index 3 subgroups is a list containing the following generators:\n",
    "                \n",
    "        [0, 1, 2]\n",
    "        [0, 1, 2]\n",
    "        [0, 2, 1]\n",
    "        [0, 2, 1]\n",
    "        [1, 2, 0]\n",
    "        [2, 0, 1]\n",
    "        [1, 0, 2]\n",
    "\n",
    "- We delete the generators corresponding to $x^{-1}$, $y^{-1}$, and $z^{-1}$, that is indices 1, 3, and 5 in each list.\n",
    "- We then seprate the subgroups of index exactly 24.\n",
    "- These are stored here in a txt file **O333-2_indx_24.txt**"
   ]
  },
  {
   "cell_type": "code",
   "execution_count": null,
   "metadata": {},
   "outputs": [],
   "source": [
    "# Here \"permreps\" is a list of all the subgroups as in the raw data\n",
    "# Funtion that loads the raw data into a Python array\n",
    "def load_txt_into_array(file_path):\n",
    "    permreps = []\n",
    "    with open(file_path, 'r') as infile:\n",
    "        # Skip the first line\n",
    "        next(infile) # Ignoring the first line of txt file as it contains the information about the number of subgroups\n",
    "        for line in infile:\n",
    "            # Evaluate the string representation of the line to convert it into a list of lists\n",
    "            lists = eval(line.strip())\n",
    "            permreps.append(lists)\n",
    "    return permreps\n",
    "\n",
    "file_path = '/path/to/raw_O333-2_up_to_indx_24.txt'  # Replace with your actual \"raw_O333-2_up_to_indx_24.txt\" file path\n",
    "permreps = load_txt_into_array(file_path)\n",
    "\n",
    "# Removing the redundant generators\n",
    "indexes = [1, 3, 5]\n",
    "for permrep in permreps:\n",
    "    for index in sorted(indexes, reverse=True):\n",
    "        del permrep[index]\n",
    "\n",
    "# Grabbing the subgroups with index exactly 24\n",
    "cleaned_permreps = []\n",
    "for permrep in permreps:\n",
    "    if len(permrep[0]) == 24:\n",
    "        cleaned_permreps.append(permrep)\n",
    "\n",
    "# Storing the cleaned permutation representations\n",
    "with open(\"O333-2_indx_24.txt\", \"w\") as file:\n",
    "    for permrep in cleaned_permreps:\n",
    "        file.write(str(permrep) + \"\\n\")"
   ]
  },
  {
   "cell_type": "markdown",
   "metadata": {},
   "source": [
    "## Covers of $O^{333}_{3}$\n",
    "- Recall that the fundamental group of the double cover of $O^{333}_{3}$ is\n",
    "\n",
    "    $$\\big< x, y, z, w \\mid x^3, y^3, z^3, w^2, (y^{-1}x)^2, (z^{-1}x)^3, (z^{-1}y)^4, (y^{-1}w)^2, (z^{-1}w)^3 \\big>$$\n",
    "    \n",
    "- We were able to enumerate the subgroups of this group up to index $24$.\n",
    "- **Note:** The index 24 was chosen since it is the minimum index for a potential manifold cover that could be a knot complement (see **Theorem 4.3**).\n",
    "- Theoretically we can look at higher integer multiples of 24, but the computations proved to be extremely heavy.\n",
    "- Similar to the previous case, even though $7$ is the number of generators, we essentially still have the four generators $x$, $y$, $z$, $y$, as\n",
    "    - $a$ and $b$ correspond to $x$ and $x^{-1}$,\n",
    "    - $c$ and $d$ correspond to $y$ and $y^{-1}$,\n",
    "    - $e$ and $f$ correspond to $z$ and $z^{-1}$, \n",
    "    - $g$ corresponds to $w$\n",
    "- This results in a txt file that you can find here under the name **raw_O333-3_up_to_indx_24.txt**"
   ]
  },
  {
   "cell_type": "code",
   "execution_count": null,
   "metadata": {},
   "outputs": [],
   "source": [
    "from low_index import *\n",
    "\n",
    "idx = 24\n",
    "t = SimsTree(7, idx, ['aaa','ccc','eee','gg','ab','cd','ef','dada','fafafa','fcfcfcfc','dgdg','fgfgfg'])\n",
    "sgrps = t.list()\n",
    "\n",
    "# Open the file in write mode\n",
    "with open(f\"raw_O333-3_up_to_indx_{idx}.txt\", \"w\") as file:\n",
    "    # Write each number in the list to the file\n",
    "    file.write(f\"number of subgroups of O333-3 w index up to {idx} : {len(sgrps)} \\n\")\n",
    "    for item in sgrps:\n",
    "        file.write(str(item.permutation_rep()) + \"\\n\")"
   ]
  },
  {
   "cell_type": "markdown",
   "metadata": {},
   "source": [
    "### Data Cleaning\n",
    "- Since we have 7 generators in the *SimsTree* presentation above, we have 7 generators for each subgroup. \n",
    "- For instance one of the index 16 subgroups is a list containing the following generators:\n",
    "                \n",
    "        [0, 1, 2, 6, 8, 4, 7, 3, 5, 9, 12, 14, 13, 10, 15, 11] \n",
    "        [0, 1, 2, 7, 5, 8, 3, 6, 4, 9, 13, 15, 10, 12, 11, 14]\n",
    "        [0, 1, 4, 3, 5, 2, 9, 6, 8, 7, 11, 14, 13, 15, 10, 12]\n",
    "        [0, 1, 5, 3, 2, 4, 7, 9, 8, 6, 14, 10, 15, 12, 11, 13]\n",
    "        [1, 2, 0, 5, 3, 4, 10, 13, 14, 7, 11, 6, 8, 9, 12, 15]\n",
    "        [2, 0, 1, 4, 5, 3, 11, 9, 12, 13, 6, 10, 14, 7, 8, 15]\n",
    "        [0, 3, 5, 1, 4, 2, 12, 13, 8, 15, 10, 14, 6, 7, 11, 9]\n",
    "\n",
    "- We delete the generators corresponding to $x^{-1}$, $y^{-1}$, and $z^{-1}$, that is indices 1, 3, and 5 in each list.\n",
    "- We then seprate the subgroups of index exactly 24.\n",
    "- These are stored here in a txt file **O333-3_indx_24.txt**"
   ]
  },
  {
   "cell_type": "code",
   "execution_count": null,
   "metadata": {},
   "outputs": [],
   "source": [
    "# The data loading and cleaning functions are exactly the same as the previous case\n",
    "# Funtion that loads the raw data into a Python array\n",
    "def load_txt_into_array(file_path):\n",
    "    permreps = []\n",
    "    with open(file_path, 'r') as infile:\n",
    "        # Skip the first line\n",
    "        next(infile) # Ignoring the first line of txt file as it contains the information about the number of subgroups\n",
    "        for line in infile:\n",
    "            # Evaluate the string representation of the line to convert it into a list of lists\n",
    "            lists = eval(line.strip())\n",
    "            permreps.append(lists)\n",
    "    return permreps\n",
    "\n",
    "file_path = '/path/to/raw_O333-3_up_to_indx_24.txt'  # Replace with your actual \"raw_O333-3_up_to_indx_24.txt\" file path\n",
    "permreps = load_txt_into_array(file_path)\n",
    "\n",
    "# Removing the redundant generators\n",
    "indexes = [1, 3, 5]\n",
    "for permrep in permreps:\n",
    "    for index in sorted(indexes, reverse=True):\n",
    "        del permrep[index]\n",
    "\n",
    "# Grabbing the subgroups with index exactly 24\n",
    "cleaned_permreps = []\n",
    "for permrep in permreps:\n",
    "    if len(permrep[0]) == 24:\n",
    "        cleaned_permreps.append(permrep)\n",
    "\n",
    "# Storing the cleaned permutation representations\n",
    "with open(\"O333-3_indx_24.txt\", \"w\") as file:\n",
    "    for permrep in cleaned_permreps:\n",
    "        file.write(str(permrep) + \"\\n\")"
   ]
  },
  {
   "cell_type": "markdown",
   "metadata": {},
   "source": [
    "## Covers of $O^{333}_{4}$\n",
    "- Recall that the fundamental group of the double cover of $O^{333}_{4}$ is\n",
    "\n",
    "    $$\\big< x, y, z, w \\mid x^3, y^3, z^3, w^3, (y^{-1}x)^2, (z^{-1}x)^3, (z^{-1}y)^4, (y^{-1}w)^2, (z^{-1}w)^2 \\big>$$\n",
    "    \n",
    "- We were able to enumerate the subgroups of this group up to index $24$.\n",
    "- **Note:** The index 24 was chosen since it is the minimum index for a potential manifold cover that could be a knot complement (see **Theorem 4.3**).\n",
    "- Theoretically we can look at higher integer multiples of 24, but the computations proved to be extremely heavy.\n",
    "- **Slightly different** than before in the low-index syntax presentation of the group we have 8 generators, which relate to $x$, $y$, $z$, $y$ as follows:\n",
    "    - $a$ and $b$ correspond to $x$ and $x^{-1}$,\n",
    "    - $c$ and $d$ correspond to $y$ and $y^{-1}$,\n",
    "    - $e$ and $f$ correspond to $z$ and $z^{-1}$, \n",
    "    - $g$ and $h$ correspond to $w$ and $w^{-1}$,\n",
    "- This results in a txt file that you can find here under the name **raw_O333-4_up_to_indx_24.txt**"
   ]
  },
  {
   "cell_type": "code",
   "execution_count": null,
   "metadata": {},
   "outputs": [],
   "source": [
    "from low_index import *\n",
    "\n",
    "idx = 24\n",
    "t = SimsTree(8, idx, ['aaa','ccc','eee','ggg','ab','cd','ef', 'gh','dada','fafafa','fcfcfcfc','dgdg','fgfg'])\n",
    "sgrps = t.list()\n",
    "\n",
    "# Open the file in write mode\n",
    "with open(f\"raw_O333-4_up_to_indx_{idx}.txt\", \"w\") as file:\n",
    "    # Write each number in the list to the file\n",
    "    file.write(f\"number of subgroups of O333-4 w index up to {idx} : {len(sgrps)} \\n\")\n",
    "    for item in sgrps:\n",
    "        file.write(str(item.permutation_rep()) + \"\\n\")"
   ]
  },
  {
   "cell_type": "markdown",
   "metadata": {},
   "source": [
    "### Data Cleaning\n",
    "- Since we have 8 generators in the *SimsTree* presentation above, we have 8 generators for each subgroup. \n",
    "- For instance one of the index 4 subgroups is a list containing the following generators:\n",
    "                \n",
    "        [0, 3, 1, 2]\n",
    "        [0, 2, 3, 1]\n",
    "        [1, 2, 0, 3]\n",
    "        [2, 0, 1, 3]\n",
    "        [0, 3, 1, 2]\n",
    "        [0, 2, 3, 1]\n",
    "        [3, 0, 2, 1]\n",
    "        [1, 3, 2, 0]\n",
    "\n",
    "- We delete the generators corresponding to $x^{-1}$, $y^{-1}$, $z^{-1}$, and $w^{-1}$, that is indices 1, 3, 5, and 7 in each list.\n",
    "- We then seprate the subgroups of index exactly 24.\n",
    "- These are stored here in a txt file **O333-4_indx_24.txt**"
   ]
  },
  {
   "cell_type": "code",
   "execution_count": null,
   "metadata": {},
   "outputs": [],
   "source": [
    "# The data loading and cleaning functions are very simialr to the previous case\n",
    "# The only difference is we need to delete an extra index\n",
    "# Funtion that loads the raw data into a Python array\n",
    "def load_txt_into_array(file_path):\n",
    "    permreps = []\n",
    "    with open(file_path, 'r') as infile:\n",
    "        # Skip the first line\n",
    "        next(infile) # Ignoring the first line of txt file as it contains the information about the number of subgroups\n",
    "        for line in infile:\n",
    "            # Evaluate the string representation of the line to convert it into a list of lists\n",
    "            lists = eval(line.strip())\n",
    "            permreps.append(lists)\n",
    "    return permreps\n",
    "\n",
    "file_path = '/path/to/raw_O333-4_up_to_indx_24.txt'  # Replace with your actual \"raw_O333-4_up_to_indx_24.txt\" file path\n",
    "permreps = load_txt_into_array(file_path)\n",
    "\n",
    "# Removing the redundant generators\n",
    "indexes = [1, 3, 5, 7]\n",
    "for permrep in permreps:\n",
    "    for index in sorted(indexes, reverse=True):\n",
    "        del permrep[index]\n",
    "\n",
    "# Grabbing the subgroups with index exactly 24\n",
    "cleaned_permreps = []\n",
    "for permrep in permreps:\n",
    "    if len(permrep[0]) == 24:\n",
    "        cleaned_permreps.append(permrep)\n",
    "\n",
    "# Storing the cleaned permutation representations\n",
    "with open(\"O333-4_indx_24.txt\", \"w\") as file:\n",
    "    for permrep in cleaned_permreps:\n",
    "        file.write(str(permrep) + \"\\n\")"
   ]
  }
 ],
 "metadata": {
  "kernelspec": {
   "display_name": "Python 3",
   "language": "python",
   "name": "python3"
  },
  "language_info": {
   "codemirror_mode": {
    "name": "ipython",
    "version": 3
   },
   "file_extension": ".py",
   "mimetype": "text/x-python",
   "name": "python",
   "nbconvert_exporter": "python",
   "pygments_lexer": "ipython3",
   "version": "3.10.4"
  }
 },
 "nbformat": 4,
 "nbformat_minor": 2
}
